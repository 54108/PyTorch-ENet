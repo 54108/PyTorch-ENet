{
 "cells": [
  {
   "cell_type": "code",
   "execution_count": 9,
   "metadata": {},
   "outputs": [],
   "source": [
    "import os\n",
    "from tqdm import tqdm\n",
    "import numpy as np\n",
    "import torchvision.transforms as transforms\n",
    "from PIL import Image"
   ]
  },
  {
   "cell_type": "code",
   "execution_count": 11,
   "metadata": {},
   "outputs": [
    {
     "name": "stderr",
     "output_type": "stream",
     "text": [
      "Processing images: 100%|██████████| 840/840 [00:00<00:00, 5992.09it/s]\n"
     ]
    }
   ],
   "source": [
    "filepath = 'data/neuseg/test/mask'\n",
    "\n",
    "image_files = [f for f in os.listdir(filepath) if os.path.isfile(os.path.join(filepath, f))]\n",
    "for image_file in tqdm(image_files, desc=\"Processing images\"):\n",
    "    image_path = os.path.join(filepath, image_file)\n",
    "    output_np = np.array(Image.open(image_path))\n",
    "\n",
    "    output_np = np.resize(output_np, (200, 200)).astype(np.uint8)\n",
    "\n",
    "    # 保存每个输出为单独的 .npy 文件\n",
    "    np.save(f\"test/{image_file.split('.')[0]}.npy\", output_np)"
   ]
  }
 ],
 "metadata": {
  "kernelspec": {
   "display_name": "torch",
   "language": "python",
   "name": "python3"
  },
  "language_info": {
   "codemirror_mode": {
    "name": "ipython",
    "version": 3
   },
   "file_extension": ".py",
   "mimetype": "text/x-python",
   "name": "python",
   "nbconvert_exporter": "python",
   "pygments_lexer": "ipython3",
   "version": "3.11.9"
  }
 },
 "nbformat": 4,
 "nbformat_minor": 2
}
